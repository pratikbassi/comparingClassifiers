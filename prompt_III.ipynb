{
 "cells": [
  {
   "cell_type": "markdown",
   "metadata": {},
   "source": [
    "# Practical Application III: Comparing Classifiers\n",
    "\n",
    "**Overview**: In this practical application, your goal is to compare the performance of the classifiers we encountered in this section, namely K Nearest Neighbor, Logistic Regression, Decision Trees, and Support Vector Machines.  We will utilize a dataset related to marketing bank products over the telephone.  \n",
    "\n"
   ]
  },
  {
   "cell_type": "markdown",
   "metadata": {},
   "source": [
    "### Getting Started\n",
    "\n",
    "Our dataset comes from the UCI Machine Learning repository [link](https://archive.ics.uci.edu/ml/datasets/bank+marketing).  The data is from a Portugese banking institution and is a collection of the results of multiple marketing campaigns.  We will make use of the article accompanying the dataset [here](CRISP-DM-BANK.pdf) for more information on the data and features.\n",
    "\n"
   ]
  },
  {
   "cell_type": "markdown",
   "metadata": {},
   "source": [
    "### Problem 1: Understanding the Data\n",
    "\n",
    "To gain a better understanding of the data, please read the information provided in the UCI link above, and examine the **Materials and Methods** section of the paper.  How many marketing campaigns does this data represent?"
   ]
  },
  {
   "cell_type": "markdown",
   "metadata": {},
   "source": [
    "This data represents 17 campaigns with 79354 contacts gathered. The campaigns were all phone campaigns conducted between May 2008 and November 2010."
   ]
  },
  {
   "cell_type": "markdown",
   "metadata": {},
   "source": [
    "### Problem 2: Read in the Data\n",
    "\n",
    "Use pandas to read in the dataset `bank-additional-full.csv` and assign to a meaningful variable name."
   ]
  },
  {
   "cell_type": "code",
   "execution_count": 53,
   "metadata": {},
   "outputs": [],
   "source": [
    "import pandas as pd\n",
    "import time\n",
    "from sklearn.model_selection import train_test_split\n",
    "from sklearn.linear_model import LogisticRegression\n",
    "from sklearn.dummy import DummyClassifier\n",
    "from sklearn.svm import SVC\n",
    "from sklearn.tree import DecisionTreeClassifier as DTC \n",
    "from sklearn.neighbors import KNeighborsClassifier as KNC\n",
    "from sklearn.metrics import accuracy_score\n",
    "from sklearn.preprocessing import StandardScaler\n",
    "from sklearn.pipeline import Pipeline\n",
    "import seaborn as sns\n",
    "from sklearn.model_selection import GridSearchCV \n",
    "import numpy as np\n",
    "import warnings\n",
    "warnings.filterwarnings(\"ignore\")"
   ]
  },
  {
   "cell_type": "code",
   "execution_count": 54,
   "metadata": {},
   "outputs": [],
   "source": [
    "df = pd.read_csv('data/bank-additional-full.csv', sep = ';')"
   ]
  },
  {
   "cell_type": "code",
   "execution_count": 55,
   "metadata": {},
   "outputs": [
    {
     "data": {
      "text/html": [
       "<div>\n",
       "<style scoped>\n",
       "    .dataframe tbody tr th:only-of-type {\n",
       "        vertical-align: middle;\n",
       "    }\n",
       "\n",
       "    .dataframe tbody tr th {\n",
       "        vertical-align: top;\n",
       "    }\n",
       "\n",
       "    .dataframe thead th {\n",
       "        text-align: right;\n",
       "    }\n",
       "</style>\n",
       "<table border=\"1\" class=\"dataframe\">\n",
       "  <thead>\n",
       "    <tr style=\"text-align: right;\">\n",
       "      <th></th>\n",
       "      <th>age</th>\n",
       "      <th>job</th>\n",
       "      <th>marital</th>\n",
       "      <th>education</th>\n",
       "      <th>default</th>\n",
       "      <th>housing</th>\n",
       "      <th>loan</th>\n",
       "      <th>contact</th>\n",
       "      <th>month</th>\n",
       "      <th>day_of_week</th>\n",
       "      <th>...</th>\n",
       "      <th>campaign</th>\n",
       "      <th>pdays</th>\n",
       "      <th>previous</th>\n",
       "      <th>poutcome</th>\n",
       "      <th>emp.var.rate</th>\n",
       "      <th>cons.price.idx</th>\n",
       "      <th>cons.conf.idx</th>\n",
       "      <th>euribor3m</th>\n",
       "      <th>nr.employed</th>\n",
       "      <th>y</th>\n",
       "    </tr>\n",
       "  </thead>\n",
       "  <tbody>\n",
       "    <tr>\n",
       "      <th>0</th>\n",
       "      <td>56</td>\n",
       "      <td>housemaid</td>\n",
       "      <td>married</td>\n",
       "      <td>basic.4y</td>\n",
       "      <td>no</td>\n",
       "      <td>no</td>\n",
       "      <td>no</td>\n",
       "      <td>telephone</td>\n",
       "      <td>may</td>\n",
       "      <td>mon</td>\n",
       "      <td>...</td>\n",
       "      <td>1</td>\n",
       "      <td>999</td>\n",
       "      <td>0</td>\n",
       "      <td>nonexistent</td>\n",
       "      <td>1.1</td>\n",
       "      <td>93.994</td>\n",
       "      <td>-36.4</td>\n",
       "      <td>4.857</td>\n",
       "      <td>5191.0</td>\n",
       "      <td>no</td>\n",
       "    </tr>\n",
       "    <tr>\n",
       "      <th>1</th>\n",
       "      <td>57</td>\n",
       "      <td>services</td>\n",
       "      <td>married</td>\n",
       "      <td>high.school</td>\n",
       "      <td>unknown</td>\n",
       "      <td>no</td>\n",
       "      <td>no</td>\n",
       "      <td>telephone</td>\n",
       "      <td>may</td>\n",
       "      <td>mon</td>\n",
       "      <td>...</td>\n",
       "      <td>1</td>\n",
       "      <td>999</td>\n",
       "      <td>0</td>\n",
       "      <td>nonexistent</td>\n",
       "      <td>1.1</td>\n",
       "      <td>93.994</td>\n",
       "      <td>-36.4</td>\n",
       "      <td>4.857</td>\n",
       "      <td>5191.0</td>\n",
       "      <td>no</td>\n",
       "    </tr>\n",
       "    <tr>\n",
       "      <th>2</th>\n",
       "      <td>37</td>\n",
       "      <td>services</td>\n",
       "      <td>married</td>\n",
       "      <td>high.school</td>\n",
       "      <td>no</td>\n",
       "      <td>yes</td>\n",
       "      <td>no</td>\n",
       "      <td>telephone</td>\n",
       "      <td>may</td>\n",
       "      <td>mon</td>\n",
       "      <td>...</td>\n",
       "      <td>1</td>\n",
       "      <td>999</td>\n",
       "      <td>0</td>\n",
       "      <td>nonexistent</td>\n",
       "      <td>1.1</td>\n",
       "      <td>93.994</td>\n",
       "      <td>-36.4</td>\n",
       "      <td>4.857</td>\n",
       "      <td>5191.0</td>\n",
       "      <td>no</td>\n",
       "    </tr>\n",
       "    <tr>\n",
       "      <th>3</th>\n",
       "      <td>40</td>\n",
       "      <td>admin.</td>\n",
       "      <td>married</td>\n",
       "      <td>basic.6y</td>\n",
       "      <td>no</td>\n",
       "      <td>no</td>\n",
       "      <td>no</td>\n",
       "      <td>telephone</td>\n",
       "      <td>may</td>\n",
       "      <td>mon</td>\n",
       "      <td>...</td>\n",
       "      <td>1</td>\n",
       "      <td>999</td>\n",
       "      <td>0</td>\n",
       "      <td>nonexistent</td>\n",
       "      <td>1.1</td>\n",
       "      <td>93.994</td>\n",
       "      <td>-36.4</td>\n",
       "      <td>4.857</td>\n",
       "      <td>5191.0</td>\n",
       "      <td>no</td>\n",
       "    </tr>\n",
       "    <tr>\n",
       "      <th>4</th>\n",
       "      <td>56</td>\n",
       "      <td>services</td>\n",
       "      <td>married</td>\n",
       "      <td>high.school</td>\n",
       "      <td>no</td>\n",
       "      <td>no</td>\n",
       "      <td>yes</td>\n",
       "      <td>telephone</td>\n",
       "      <td>may</td>\n",
       "      <td>mon</td>\n",
       "      <td>...</td>\n",
       "      <td>1</td>\n",
       "      <td>999</td>\n",
       "      <td>0</td>\n",
       "      <td>nonexistent</td>\n",
       "      <td>1.1</td>\n",
       "      <td>93.994</td>\n",
       "      <td>-36.4</td>\n",
       "      <td>4.857</td>\n",
       "      <td>5191.0</td>\n",
       "      <td>no</td>\n",
       "    </tr>\n",
       "  </tbody>\n",
       "</table>\n",
       "<p>5 rows × 21 columns</p>\n",
       "</div>"
      ],
      "text/plain": [
       "   age        job  marital    education  default housing loan    contact  \\\n",
       "0   56  housemaid  married     basic.4y       no      no   no  telephone   \n",
       "1   57   services  married  high.school  unknown      no   no  telephone   \n",
       "2   37   services  married  high.school       no     yes   no  telephone   \n",
       "3   40     admin.  married     basic.6y       no      no   no  telephone   \n",
       "4   56   services  married  high.school       no      no  yes  telephone   \n",
       "\n",
       "  month day_of_week  ...  campaign  pdays  previous     poutcome emp.var.rate  \\\n",
       "0   may         mon  ...         1    999         0  nonexistent          1.1   \n",
       "1   may         mon  ...         1    999         0  nonexistent          1.1   \n",
       "2   may         mon  ...         1    999         0  nonexistent          1.1   \n",
       "3   may         mon  ...         1    999         0  nonexistent          1.1   \n",
       "4   may         mon  ...         1    999         0  nonexistent          1.1   \n",
       "\n",
       "   cons.price.idx  cons.conf.idx  euribor3m  nr.employed   y  \n",
       "0          93.994          -36.4      4.857       5191.0  no  \n",
       "1          93.994          -36.4      4.857       5191.0  no  \n",
       "2          93.994          -36.4      4.857       5191.0  no  \n",
       "3          93.994          -36.4      4.857       5191.0  no  \n",
       "4          93.994          -36.4      4.857       5191.0  no  \n",
       "\n",
       "[5 rows x 21 columns]"
      ]
     },
     "execution_count": 55,
     "metadata": {},
     "output_type": "execute_result"
    }
   ],
   "source": [
    "df.head()"
   ]
  },
  {
   "cell_type": "markdown",
   "metadata": {},
   "source": [
    "### Problem 3: Understanding the Features\n",
    "\n",
    "\n",
    "Examine the data description below, and determine if any of the features are missing values or need to be coerced to a different data type.\n",
    "\n",
    "\n",
    "```\n",
    "Input variables:\n",
    "# bank client data:\n",
    "1 - age (numeric)\n",
    "2 - job : type of job (categorical: 'admin.','blue-collar','entrepreneur','housemaid','management','retired','self-employed','services','student','technician','unemployed','unknown')\n",
    "3 - marital : marital status (categorical: 'divorced','married','single','unknown'; note: 'divorced' means divorced or widowed)\n",
    "4 - education (categorical: 'basic.4y','basic.6y','basic.9y','high.school','illiterate','professional.course','university.degree','unknown')\n",
    "5 - default: has credit in default? (categorical: 'no','yes','unknown')\n",
    "6 - housing: has housing loan? (categorical: 'no','yes','unknown')\n",
    "7 - loan: has personal loan? (categorical: 'no','yes','unknown')\n",
    "# related with the last contact of the current campaign:\n",
    "8 - contact: contact communication type (categorical: 'cellular','telephone')\n",
    "9 - month: last contact month of year (categorical: 'jan', 'feb', 'mar', ..., 'nov', 'dec')\n",
    "10 - day_of_week: last contact day of the week (categorical: 'mon','tue','wed','thu','fri')\n",
    "11 - duration: last contact duration, in seconds (numeric). Important note: this attribute highly affects the output target (e.g., if duration=0 then y='no'). Yet, the duration is not known before a call is performed. Also, after the end of the call y is obviously known. Thus, this input should only be included for benchmark purposes and should be discarded if the intention is to have a realistic predictive model.\n",
    "# other attributes:\n",
    "12 - campaign: number of contacts performed during this campaign and for this client (numeric, includes last contact)\n",
    "13 - pdays: number of days that passed by after the client was last contacted from a previous campaign (numeric; 999 means client was not previously contacted)\n",
    "14 - previous: number of contacts performed before this campaign and for this client (numeric)\n",
    "15 - poutcome: outcome of the previous marketing campaign (categorical: 'failure','nonexistent','success')\n",
    "# social and economic context attributes\n",
    "16 - emp.var.rate: employment variation rate - quarterly indicator (numeric)\n",
    "17 - cons.price.idx: consumer price index - monthly indicator (numeric)\n",
    "18 - cons.conf.idx: consumer confidence index - monthly indicator (numeric)\n",
    "19 - euribor3m: euribor 3 month rate - daily indicator (numeric)\n",
    "20 - nr.employed: number of employees - quarterly indicator (numeric)\n",
    "\n",
    "Output variable (desired target):\n",
    "21 - y - has the client subscribed a term deposit? (binary: 'yes','no')\n",
    "```\n",
    "\n"
   ]
  },
  {
   "cell_type": "markdown",
   "metadata": {},
   "source": [
    "### Problem 4: Understanding the Task\n",
    "\n",
    "After examining the description and data, your goal now is to clearly state the *Business Objective* of the task.  State the objective below."
   ]
  },
  {
   "cell_type": "code",
   "execution_count": 56,
   "metadata": {},
   "outputs": [
    {
     "name": "stdout",
     "output_type": "stream",
     "text": [
      "<class 'pandas.core.frame.DataFrame'>\n",
      "RangeIndex: 41188 entries, 0 to 41187\n",
      "Data columns (total 21 columns):\n",
      " #   Column          Non-Null Count  Dtype  \n",
      "---  ------          --------------  -----  \n",
      " 0   age             41188 non-null  int64  \n",
      " 1   job             41188 non-null  object \n",
      " 2   marital         41188 non-null  object \n",
      " 3   education       41188 non-null  object \n",
      " 4   default         41188 non-null  object \n",
      " 5   housing         41188 non-null  object \n",
      " 6   loan            41188 non-null  object \n",
      " 7   contact         41188 non-null  object \n",
      " 8   month           41188 non-null  object \n",
      " 9   day_of_week     41188 non-null  object \n",
      " 10  duration        41188 non-null  int64  \n",
      " 11  campaign        41188 non-null  int64  \n",
      " 12  pdays           41188 non-null  int64  \n",
      " 13  previous        41188 non-null  int64  \n",
      " 14  poutcome        41188 non-null  object \n",
      " 15  emp.var.rate    41188 non-null  float64\n",
      " 16  cons.price.idx  41188 non-null  float64\n",
      " 17  cons.conf.idx   41188 non-null  float64\n",
      " 18  euribor3m       41188 non-null  float64\n",
      " 19  nr.employed     41188 non-null  float64\n",
      " 20  y               41188 non-null  object \n",
      "dtypes: float64(5), int64(5), object(11)\n",
      "memory usage: 6.6+ MB\n"
     ]
    }
   ],
   "source": [
    "df.info()"
   ]
  },
  {
   "cell_type": "markdown",
   "metadata": {},
   "source": [
    "The business problem is to correctly identify the customers who are likely to subscribe to the term deposit. The bank can then target these customers with promotional offers. The bank can also use the model to identify the key drivers that influence the customers' decision to subscribe to the term deposit."
   ]
  },
  {
   "cell_type": "markdown",
   "metadata": {},
   "source": [
    "### Problem 5: Engineering Features\n",
    "\n",
    "Now that you understand your business objective, we will build a basic model to get started.  Before we can do this, we must work to encode the data.  Using just the bank information features (columns 1 - 7), prepare the features and target column for modeling with appropriate encoding and transformations."
   ]
  },
  {
   "cell_type": "code",
   "execution_count": 57,
   "metadata": {},
   "outputs": [
    {
     "data": {
      "text/plain": [
       "no     36548\n",
       "yes     4640\n",
       "Name: y, dtype: int64"
      ]
     },
     "execution_count": 57,
     "metadata": {},
     "output_type": "execute_result"
    }
   ],
   "source": [
    "bank_df = df[['job', 'marital', 'education', 'default', 'housing', 'loan', 'contact', 'y']].copy()\n",
    "bank_df['y'].value_counts()\n"
   ]
  },
  {
   "cell_type": "code",
   "execution_count": 58,
   "metadata": {},
   "outputs": [
    {
     "data": {
      "text/html": [
       "<div>\n",
       "<style scoped>\n",
       "    .dataframe tbody tr th:only-of-type {\n",
       "        vertical-align: middle;\n",
       "    }\n",
       "\n",
       "    .dataframe tbody tr th {\n",
       "        vertical-align: top;\n",
       "    }\n",
       "\n",
       "    .dataframe thead th {\n",
       "        text-align: right;\n",
       "    }\n",
       "</style>\n",
       "<table border=\"1\" class=\"dataframe\">\n",
       "  <thead>\n",
       "    <tr style=\"text-align: right;\">\n",
       "      <th></th>\n",
       "      <th>default</th>\n",
       "      <th>housing</th>\n",
       "      <th>loan</th>\n",
       "      <th>y</th>\n",
       "      <th>job_blue-collar</th>\n",
       "      <th>job_entrepreneur</th>\n",
       "      <th>job_housemaid</th>\n",
       "      <th>job_management</th>\n",
       "      <th>job_retired</th>\n",
       "      <th>job_self-employed</th>\n",
       "      <th>...</th>\n",
       "      <th>marital_single</th>\n",
       "      <th>marital_unknown</th>\n",
       "      <th>education_basic.6y</th>\n",
       "      <th>education_basic.9y</th>\n",
       "      <th>education_high.school</th>\n",
       "      <th>education_illiterate</th>\n",
       "      <th>education_professional.course</th>\n",
       "      <th>education_university.degree</th>\n",
       "      <th>education_unknown</th>\n",
       "      <th>contact_telephone</th>\n",
       "    </tr>\n",
       "  </thead>\n",
       "  <tbody>\n",
       "    <tr>\n",
       "      <th>0</th>\n",
       "      <td>0.0</td>\n",
       "      <td>0.0</td>\n",
       "      <td>0.0</td>\n",
       "      <td>0</td>\n",
       "      <td>0</td>\n",
       "      <td>0</td>\n",
       "      <td>1</td>\n",
       "      <td>0</td>\n",
       "      <td>0</td>\n",
       "      <td>0</td>\n",
       "      <td>...</td>\n",
       "      <td>0</td>\n",
       "      <td>0</td>\n",
       "      <td>0</td>\n",
       "      <td>0</td>\n",
       "      <td>0</td>\n",
       "      <td>0</td>\n",
       "      <td>0</td>\n",
       "      <td>0</td>\n",
       "      <td>0</td>\n",
       "      <td>1</td>\n",
       "    </tr>\n",
       "    <tr>\n",
       "      <th>2</th>\n",
       "      <td>0.0</td>\n",
       "      <td>1.0</td>\n",
       "      <td>0.0</td>\n",
       "      <td>0</td>\n",
       "      <td>0</td>\n",
       "      <td>0</td>\n",
       "      <td>0</td>\n",
       "      <td>0</td>\n",
       "      <td>0</td>\n",
       "      <td>0</td>\n",
       "      <td>...</td>\n",
       "      <td>0</td>\n",
       "      <td>0</td>\n",
       "      <td>0</td>\n",
       "      <td>0</td>\n",
       "      <td>1</td>\n",
       "      <td>0</td>\n",
       "      <td>0</td>\n",
       "      <td>0</td>\n",
       "      <td>0</td>\n",
       "      <td>1</td>\n",
       "    </tr>\n",
       "    <tr>\n",
       "      <th>3</th>\n",
       "      <td>0.0</td>\n",
       "      <td>0.0</td>\n",
       "      <td>0.0</td>\n",
       "      <td>0</td>\n",
       "      <td>0</td>\n",
       "      <td>0</td>\n",
       "      <td>0</td>\n",
       "      <td>0</td>\n",
       "      <td>0</td>\n",
       "      <td>0</td>\n",
       "      <td>...</td>\n",
       "      <td>0</td>\n",
       "      <td>0</td>\n",
       "      <td>1</td>\n",
       "      <td>0</td>\n",
       "      <td>0</td>\n",
       "      <td>0</td>\n",
       "      <td>0</td>\n",
       "      <td>0</td>\n",
       "      <td>0</td>\n",
       "      <td>1</td>\n",
       "    </tr>\n",
       "    <tr>\n",
       "      <th>4</th>\n",
       "      <td>0.0</td>\n",
       "      <td>0.0</td>\n",
       "      <td>1.0</td>\n",
       "      <td>0</td>\n",
       "      <td>0</td>\n",
       "      <td>0</td>\n",
       "      <td>0</td>\n",
       "      <td>0</td>\n",
       "      <td>0</td>\n",
       "      <td>0</td>\n",
       "      <td>...</td>\n",
       "      <td>0</td>\n",
       "      <td>0</td>\n",
       "      <td>0</td>\n",
       "      <td>0</td>\n",
       "      <td>1</td>\n",
       "      <td>0</td>\n",
       "      <td>0</td>\n",
       "      <td>0</td>\n",
       "      <td>0</td>\n",
       "      <td>1</td>\n",
       "    </tr>\n",
       "    <tr>\n",
       "      <th>6</th>\n",
       "      <td>0.0</td>\n",
       "      <td>0.0</td>\n",
       "      <td>0.0</td>\n",
       "      <td>0</td>\n",
       "      <td>0</td>\n",
       "      <td>0</td>\n",
       "      <td>0</td>\n",
       "      <td>0</td>\n",
       "      <td>0</td>\n",
       "      <td>0</td>\n",
       "      <td>...</td>\n",
       "      <td>0</td>\n",
       "      <td>0</td>\n",
       "      <td>0</td>\n",
       "      <td>0</td>\n",
       "      <td>0</td>\n",
       "      <td>0</td>\n",
       "      <td>1</td>\n",
       "      <td>0</td>\n",
       "      <td>0</td>\n",
       "      <td>1</td>\n",
       "    </tr>\n",
       "  </tbody>\n",
       "</table>\n",
       "<p>5 rows × 26 columns</p>\n",
       "</div>"
      ],
      "text/plain": [
       "   default  housing  loan  y  job_blue-collar  job_entrepreneur  \\\n",
       "0      0.0      0.0   0.0  0                0                 0   \n",
       "2      0.0      1.0   0.0  0                0                 0   \n",
       "3      0.0      0.0   0.0  0                0                 0   \n",
       "4      0.0      0.0   1.0  0                0                 0   \n",
       "6      0.0      0.0   0.0  0                0                 0   \n",
       "\n",
       "   job_housemaid  job_management  job_retired  job_self-employed  ...  \\\n",
       "0              1               0            0                  0  ...   \n",
       "2              0               0            0                  0  ...   \n",
       "3              0               0            0                  0  ...   \n",
       "4              0               0            0                  0  ...   \n",
       "6              0               0            0                  0  ...   \n",
       "\n",
       "   marital_single  marital_unknown  education_basic.6y  education_basic.9y  \\\n",
       "0               0                0                   0                   0   \n",
       "2               0                0                   0                   0   \n",
       "3               0                0                   1                   0   \n",
       "4               0                0                   0                   0   \n",
       "6               0                0                   0                   0   \n",
       "\n",
       "   education_high.school  education_illiterate  education_professional.course  \\\n",
       "0                      0                     0                              0   \n",
       "2                      1                     0                              0   \n",
       "3                      0                     0                              0   \n",
       "4                      1                     0                              0   \n",
       "6                      0                     0                              1   \n",
       "\n",
       "   education_university.degree  education_unknown  contact_telephone  \n",
       "0                            0                  0                  1  \n",
       "2                            0                  0                  1  \n",
       "3                            0                  0                  1  \n",
       "4                            0                  0                  1  \n",
       "6                            0                  0                  1  \n",
       "\n",
       "[5 rows x 26 columns]"
      ]
     },
     "execution_count": 58,
     "metadata": {},
     "output_type": "execute_result"
    }
   ],
   "source": [
    "#Clean and one hot encode the data\n",
    "bank_df = pd.get_dummies(bank_df, columns=['job', 'marital', 'education', 'contact'], drop_first=True)\n",
    "bank_df['y'] = bank_df['y'].map({'yes': 1, 'no': 0})\n",
    "bank_df['housing'] = bank_df['housing'].map({'yes': 1, 'no': 0})\n",
    "bank_df['default'] = bank_df['default'].map({'yes': 1, 'no': 0})\n",
    "bank_df['loan'] = bank_df['loan'].map({'yes': 1, 'no': 0})\n",
    "bank_df.dropna(inplace=True)\n",
    "bank_df.head()"
   ]
  },
  {
   "cell_type": "markdown",
   "metadata": {},
   "source": [
    "### Problem 6: Train/Test Split\n",
    "\n",
    "With your data prepared, split it into a train and test set."
   ]
  },
  {
   "cell_type": "code",
   "execution_count": 59,
   "metadata": {},
   "outputs": [],
   "source": [
    "X = bank_df.drop('y', axis=1)\n",
    "y = bank_df['y']\n",
    "X_train, X_test, y_train, y_test = train_test_split(X, y, test_size=0.2, random_state=42)"
   ]
  },
  {
   "cell_type": "markdown",
   "metadata": {},
   "source": [
    "### Problem 7: A Baseline Model\n",
    "\n",
    "Before we build our first model, we want to establish a baseline.  What is the baseline performance that our classifier should aim to beat?"
   ]
  },
  {
   "cell_type": "markdown",
   "metadata": {},
   "source": [
    "The stated success rate of the marketing campaign was 8%, with 79354 contacts and 6499 successes. We should aim to be able to identify these successful candidates as best as possible. To determine a baseline, we will use the sklearn DummyClassifier(). We will use uniform predictions"
   ]
  },
  {
   "cell_type": "code",
   "execution_count": 60,
   "metadata": {},
   "outputs": [
    {
     "name": "stdout",
     "output_type": "stream",
     "text": [
      "Baseline accuracy score: 0.7818096135721018\n"
     ]
    }
   ],
   "source": [
    "baseline = DummyClassifier(strategy='stratified').fit(X_train, y_train)\n",
    "baseline_predictions = baseline.predict(X_test)\n",
    "baseline_accuracy = accuracy_score(baseline_predictions, y_test)\n",
    "print(f'Baseline accuracy score: {baseline_accuracy}')\n"
   ]
  },
  {
   "cell_type": "markdown",
   "metadata": {},
   "source": [
    "We will attempt to beat the accuracy score of: 0.7706566132579328"
   ]
  },
  {
   "cell_type": "markdown",
   "metadata": {},
   "source": [
    "### Problem 8: A Simple Model\n",
    "\n",
    "Use Logistic Regression to build a basic model on your data.  "
   ]
  },
  {
   "cell_type": "code",
   "execution_count": 61,
   "metadata": {},
   "outputs": [],
   "source": [
    "logistic = LogisticRegression().fit(X_train, y_train)\n",
    "logistic_predictions = logistic.predict(X_test)\n",
    "logisitic_train_predictions = logistic.predict(X_train)\n"
   ]
  },
  {
   "cell_type": "markdown",
   "metadata": {},
   "source": [
    "### Problem 9: Score the Model\n",
    "\n",
    "What is the accuracy of your model?"
   ]
  },
  {
   "cell_type": "code",
   "execution_count": 62,
   "metadata": {},
   "outputs": [
    {
     "name": "stdout",
     "output_type": "stream",
     "text": [
      "Logistic accuracy score: 0.8704052780395853\n"
     ]
    }
   ],
   "source": [
    "logistic_accuracy = accuracy_score(logistic_predictions, y_test)\n",
    "print(f'Logistic accuracy score: {logistic_accuracy}')"
   ]
  },
  {
   "cell_type": "markdown",
   "metadata": {},
   "source": [
    "### Problem 10: Model Comparisons\n",
    "\n",
    "Now, we aim to compare the performance of the Logistic Regression model to our KNN algorithm, Decision Tree, and SVM models.  Using the default settings for each of the models, fit and score each.  Also, be sure to compare the fit time of each of the models.  Present your findings in a `DataFrame` similar to that below:\n",
    "\n",
    "| Model | Train Time | Train Accuracy | Test Accuracy |\n",
    "| ----- | ---------- | -------------  | -----------   |\n",
    "|     |    |.     |.     |"
   ]
  },
  {
   "cell_type": "code",
   "execution_count": 63,
   "metadata": {},
   "outputs": [
    {
     "name": "stdout",
     "output_type": "stream",
     "text": [
      "Logistic accuracy score: 0.8704052780395853\n",
      "Logistic train accuracy score: 0.8712984054669703\n",
      "Logistic time to train: 0.14517521858215332\n"
     ]
    }
   ],
   "source": [
    "#Logistic Regression\n",
    "t0 = time.time()\n",
    "\n",
    "logistic = LogisticRegression().fit(X_train, y_train)\n",
    "\n",
    "logistic_predictions = logistic.predict(X_test)\n",
    "logisitic_train_predictions = logistic.predict(X_train)\n",
    "\n",
    "t1 = time.time()\n",
    "\n",
    "logistic_accuracy = accuracy_score(logistic_predictions, y_test)\n",
    "logistic_train_accuracy = accuracy_score(logisitic_train_predictions, y_train)\n",
    "\n",
    "print(f'Logistic accuracy score: {logistic_accuracy}')\n",
    "print(f'Logistic train accuracy score: {logistic_train_accuracy}')\n",
    "print(f'Logistic time to train: {t1-t0}')"
   ]
  },
  {
   "cell_type": "code",
   "execution_count": 64,
   "metadata": {},
   "outputs": [
    {
     "name": "stdout",
     "output_type": "stream",
     "text": [
      "KNN accuracy score: 0.8517122211749921\n",
      "KNN train accuracy score: 0.8596732385515671\n",
      "KNN time to train: 1.3083889484405518\n"
     ]
    }
   ],
   "source": [
    "#KNN\n",
    "t2 = time.time()\n",
    "\n",
    "knn = KNC().fit(X_train.values, y_train.values)\n",
    "\n",
    "knn_train_predictions = knn.predict(X_train.values)\n",
    "knn_predictions = knn.predict(X_test.values)\n",
    "\n",
    "t3 = time.time()\n",
    "\n",
    "knn_train_accuracy = accuracy_score(knn_train_predictions, y_train)\n",
    "knn_accuracy = accuracy_score(knn_predictions, y_test)\n",
    "\n",
    "print(f'KNN accuracy score: {knn_accuracy}')\n",
    "print(f'KNN train accuracy score: {knn_train_accuracy}')\n",
    "print(f'KNN time to train: {t3-t2}')"
   ]
  },
  {
   "cell_type": "code",
   "execution_count": 65,
   "metadata": {},
   "outputs": [
    {
     "name": "stdout",
     "output_type": "stream",
     "text": [
      "SVM accuracy score: 0.8704052780395853\n",
      "SVM train accuracy score: 0.8713376796795225\n",
      "SVM time to train: 35.041759967803955\n"
     ]
    }
   ],
   "source": [
    "#SVM\n",
    "t4 = time.time()\n",
    "\n",
    "svm = SVC().fit(X_train, y_train)\n",
    "\n",
    "svm_train_predictions = svm.predict(X_train)\n",
    "svm_predictions = svm.predict(X_test)\n",
    "t5 = time.time()\n",
    "\n",
    "svm_train_accuracy = accuracy_score(svm_train_predictions, y_train)\n",
    "svm_accuracy = accuracy_score(svm_predictions, y_test)\n",
    "\n",
    "print(f'SVM accuracy score: {svm_accuracy}')\n",
    "print(f'SVM train accuracy score: {svm_train_accuracy}')\n",
    "print(f'SVM time to train: {t5-t4}')\n"
   ]
  },
  {
   "cell_type": "code",
   "execution_count": 66,
   "metadata": {},
   "outputs": [
    {
     "name": "stdout",
     "output_type": "stream",
     "text": [
      "DTC accuracy score: 0.8660069117185045\n",
      "DTC train accuracy score: 0.8752651009347262\n",
      "DTC time to train: 0.04417300224304199\n"
     ]
    }
   ],
   "source": [
    "#DTC\n",
    "t6 = time.time()\n",
    "\n",
    "dtc = DTC().fit(X_train, y_train)\n",
    "\n",
    "dtc_train_predictions = dtc.predict(X_train)\n",
    "dtc_predictions = dtc.predict(X_test)\n",
    "t7 = time.time()\n",
    "\n",
    "dtc_train_accuracy = accuracy_score(dtc_train_predictions, y_train)\n",
    "dtc_accuracy = accuracy_score(dtc_predictions, y_test)\n",
    "\n",
    "print(f'DTC accuracy score: {dtc_accuracy}')\n",
    "print(f'DTC train accuracy score: {dtc_train_accuracy}')\n",
    "print(f'DTC time to train: {t7-t6}')\n",
    "\n"
   ]
  },
  {
   "cell_type": "code",
   "execution_count": 67,
   "metadata": {},
   "outputs": [
    {
     "name": "stdout",
     "output_type": "stream",
     "text": [
      "      Model  Test Accuracy  Train Accuracy  Time to Train\n",
      "0  Logistic       0.870405        0.871298       0.145175\n",
      "1       KNN       0.851712        0.859673       1.308389\n",
      "2       SVM       0.870405        0.871338      35.041760\n",
      "3       DTC       0.866007        0.875265       0.044173\n"
     ]
    }
   ],
   "source": [
    "results = pd.DataFrame({\n",
    "  'Model': ['Logistic', 'KNN', 'SVM', 'DTC'],\n",
    "  'Test Accuracy': [logistic_accuracy, knn_accuracy, svm_accuracy, dtc_accuracy],\n",
    "  'Train Accuracy': [logistic_train_accuracy, knn_train_accuracy, svm_train_accuracy, dtc_train_accuracy],\n",
    "  'Time to Train': [t1-t0, t3-t2, t5-t4, t7-t6]\n",
    "  })\n",
    "\n",
    "print(results)"
   ]
  },
  {
   "cell_type": "markdown",
   "metadata": {},
   "source": [
    "### Problem 11: Improving the Model\n",
    "\n",
    "Now that we have some basic models on the board, we want to try to improve these.  Below, we list a few things to explore in this pursuit.\n",
    "\n",
    "- More feature engineering and exploration.  For example, should we keep the gender feature?  Why or why not?\n",
    "- Hyperparameter tuning and grid search.  All of our models have additional hyperparameters to tune and explore.  For example the number of neighbors in KNN or the maximum depth of a Decision Tree.  \n",
    "- Adjust your performance metric"
   ]
  },
  {
   "cell_type": "markdown",
   "metadata": {},
   "source": [
    "### 12.  Does scaling have an effect on the models?\n"
   ]
  },
  {
   "cell_type": "code",
   "execution_count": 68,
   "metadata": {},
   "outputs": [
    {
     "name": "stdout",
     "output_type": "stream",
     "text": [
      "LogisticRegression() accuracy: 0.8704052780395853\n",
      "KNeighborsClassifier() accuracy: 0.8502984605717876\n",
      "SVC() accuracy: 0.8704052780395853\n",
      "DecisionTreeClassifier() accuracy: 0.8660069117185045\n"
     ]
    }
   ],
   "source": [
    "#Store models in list for testing\n",
    "log = LogisticRegression()\n",
    "svm = SVC()\n",
    "knn = KNC()\n",
    "dtc = DTC()\n",
    "\n",
    "testing = [log, knn, svm, dtc]\n",
    "\n",
    "results_array = []\n",
    "#Test models\n",
    "for model in testing:\n",
    "  pipeline = Pipeline([\n",
    "    ('scaler', StandardScaler()),\n",
    "    ('model', model)\n",
    "  ])\n",
    "  pipeline.fit(X_train, y_train)\n",
    "\n",
    "  predictions = pipeline.predict(X_test)\n",
    "  accuracy = accuracy_score(predictions, y_test)\n",
    "  print(f'{model} accuracy: {accuracy}')\n",
    "  results_array.append(accuracy)\n",
    "  \n",
    "  \n"
   ]
  },
  {
   "cell_type": "code",
   "execution_count": 69,
   "metadata": {},
   "outputs": [
    {
     "name": "stdout",
     "output_type": "stream",
     "text": [
      "      Model  Test Accuracy  Train Accuracy  Time to Train  Scaling Accuracy\n",
      "0  Logistic       0.870405        0.871298       0.145175          0.870405\n",
      "1       KNN       0.851712        0.859673       1.308389          0.850298\n",
      "2       SVM       0.870405        0.871338      35.041760          0.870405\n",
      "3       DTC       0.866007        0.875265       0.044173          0.866007\n"
     ]
    },
    {
     "data": {
      "text/plain": [
       "Text(0.5, 1.0, 'Model Accuracy')"
      ]
     },
     "execution_count": 69,
     "metadata": {},
     "output_type": "execute_result"
    },
    {
     "data": {
      "image/png": "[encoded data removed]",
      "text/plain": [
       "<Figure size 640x480 with 1 Axes>"
      ]
     },
     "metadata": {},
     "output_type": "display_data"
    }
   ],
   "source": [
    "results['Scaling Accuracy'] = results_array\n",
    "print(results)\n",
    "results_barplot_format = results.melt(id_vars='Model', value_vars=['Test Accuracy', 'Scaling Accuracy'], var_name='Metric', value_name='Accuracy')\n",
    "plot = sns.barplot(x='Model', y='Accuracy', hue='Metric', data=results_barplot_format)\n",
    "plot.set_title('Model Accuracy')"
   ]
  },
  {
   "cell_type": "markdown",
   "metadata": {},
   "source": [
    "#### Scaling does not have an effect"
   ]
  },
  {
   "cell_type": "markdown",
   "metadata": {},
   "source": [
    "### 13. Does increasing the number of features have an effect on the accuracy of the model?"
   ]
  },
  {
   "cell_type": "code",
   "execution_count": 70,
   "metadata": {},
   "outputs": [],
   "source": [
    "bank_df_full = df.copy()\n",
    "bank_df_full = pd.get_dummies(bank_df_full, columns=['job', 'marital', 'education', 'contact', 'month', 'day_of_week', 'poutcome'], drop_first=True)\n",
    "bank_df_full['y'] = bank_df_full['y'].map({'yes': 1, 'no': 0})\n",
    "bank_df_full['housing'] = bank_df_full['housing'].map({'yes': 1, 'no': 0})\n",
    "bank_df_full['default'] = bank_df_full['default'].map({'yes': 1, 'no': 0})\n",
    "bank_df_full['loan'] = bank_df_full['loan'].map({'yes': 1, 'no': 0})\n",
    "bank_df_full.dropna(inplace=True)\n",
    "bank_df_full.head()\n",
    "\n",
    "#train test split\n",
    "X = bank_df_full.drop('y', axis=1)\n",
    "y = bank_df_full['y']\n",
    "X_train, X_test, y_train, y_test = train_test_split(X, y, test_size=0.2, random_state=42)\n",
    "\n",
    "#Loop through features and test models\n",
    "by_model_results = []\n",
    "for model in testing:\n",
    "  results_array = []\n",
    "  for i in range(1 , bank_df_full.shape[1] - 1):\n",
    "    pipeline = Pipeline([\n",
    "      ('scaler', StandardScaler()),\n",
    "      ('model', model)\n",
    "    ])\n",
    "    pipeline.fit(X_train.iloc[ : , 0:i], y_train)\n",
    "\n",
    "    predictions = pipeline.predict(X_test.iloc[ : , 0:i])\n",
    "    accuracy = accuracy_score(predictions, y_test)\n",
    "    results_array.append(accuracy)\n",
    "  by_model_results.append(results_array)\n",
    "\n"
   ]
  },
  {
   "cell_type": "code",
   "execution_count": 71,
   "metadata": {},
   "outputs": [
    {
     "data": {
      "image/png": "[encoded data removed]",
      "text/plain": [
       "<Figure size 640x480 with 1 Axes>"
      ]
     },
     "metadata": {},
     "output_type": "display_data"
    }
   ],
   "source": [
    "by_model_results_df = pd.DataFrame(by_model_results)\n",
    "by_model_results_df = by_model_results_df.transpose()\n",
    "by_model_results_df.rename(columns={0: 'Logistic', 1: 'KNN', 2:'SVM', 3:'DTC'}, inplace=True)\n",
    "plot = sns.lineplot(data=by_model_results_df)\n",
    "plot = plot.set_title('Model Accuracy by Number of Features')"
   ]
  },
  {
   "cell_type": "markdown",
   "metadata": {},
   "source": [
    "#### Up to a point, increasing the number of features increases the model accuracy.\n",
    "By this chart, we can see that the Logisitic Regression is the most accurate model. The other models also generally increase in accuracy up to about 10 features, but then decrease or plateau after that."
   ]
  },
  {
   "cell_type": "markdown",
   "metadata": {},
   "source": [
    "### 14. Hyperparameter Turning for Logistic Regression\n",
    "\n",
    "Given that Logistic Regression performed the best so far without requiring an excessive amount of time to train, we will focus now on tuning some hyperparameters for it."
   ]
  },
  {
   "cell_type": "markdown",
   "metadata": {},
   "source": [
    "##### 14.a Picking a solver for logistic regression"
   ]
  },
  {
   "cell_type": "code",
   "execution_count": 72,
   "metadata": {},
   "outputs": [],
   "source": [
    "#Create full dataframe for testing\n",
    "bank_df_full = df.copy()\n",
    "bank_df_full = pd.get_dummies(bank_df_full, columns=['job', 'marital', 'education', 'contact', 'month', 'day_of_week', 'poutcome'], drop_first=True)\n",
    "bank_df_full['y'] = bank_df_full['y'].map({'yes': 1, 'no': 0})\n",
    "bank_df_full['housing'] = bank_df_full['housing'].map({'yes': 1, 'no': 0})\n",
    "bank_df_full['default'] = bank_df_full['default'].map({'yes': 1, 'no': 0})\n",
    "bank_df_full['loan'] = bank_df_full['loan'].map({'yes': 1, 'no': 0})\n",
    "bank_df_full.dropna(inplace=True)\n",
    "bank_df_full.head()\n",
    "\n",
    "#train test split\n",
    "X = bank_df_full.drop('y', axis=1)\n",
    "y = bank_df_full['y']\n",
    "X_train, X_test, y_train, y_test = train_test_split(X, y, test_size=0.2, random_state=42)"
   ]
  },
  {
   "cell_type": "code",
   "execution_count": 73,
   "metadata": {},
   "outputs": [
    {
     "name": "stdout",
     "output_type": "stream",
     "text": [
      "newton-cg accuracy: 0.899780081683946\n",
      "newton-cholesky accuracy: 0.9005655042412818\n",
      "lbfgs accuracy: 0.8986804901036758\n",
      "liblinear accuracy: 0.8996229971724788\n",
      "sag accuracy: 0.8963242224316682\n",
      "saga accuracy: 0.8953817153628653\n"
     ]
    }
   ],
   "source": [
    "#Store solvers in list for testing\n",
    "solvers = ['newton-cg', 'newton-cholesky', 'lbfgs', 'liblinear', 'sag', 'saga']\n",
    "\n",
    "results_array = []\n",
    "#Test models\n",
    "for solver in solvers:\n",
    "  pipeline = Pipeline([\n",
    "    ('model', LogisticRegression(solver=solver))\n",
    "  ])\n",
    "  pipeline.fit(X_train, y_train)\n",
    "\n",
    "  predictions = pipeline.predict(X_test)\n",
    "  accuracy = accuracy_score(predictions, y_test)\n",
    "  print(f'{solver} accuracy: {accuracy}')\n",
    "  results_array.append(accuracy)\n",
    "  \n",
    "  "
   ]
  },
  {
   "cell_type": "code",
   "execution_count": 74,
   "metadata": {},
   "outputs": [
    {
     "data": {
      "image/png": "[encoded data removed]",
      "text/plain": [
       "<Figure size 640x480 with 1 Axes>"
      ]
     },
     "metadata": {},
     "output_type": "display_data"
    }
   ],
   "source": [
    "#plot results\n",
    "plot = sns.barplot(x=solvers, y=results_array)\n",
    "plot.set_title('Solver Accuracy')\n",
    "plot.set_ylim(min(results_array) - 0.01, max(results_array) + 0.01)\n",
    "plot.xaxis.set_tick_params(rotation=45)"
   ]
  },
  {
   "cell_type": "markdown",
   "metadata": {},
   "source": [
    "##### The best solver appears to be newton-cholesky \\\n",
    "\n",
    "##### 14.b Compare solvers with penalties"
   ]
  },
  {
   "cell_type": "code",
   "execution_count": null,
   "metadata": {},
   "outputs": [],
   "source": [
    "#Store solvers in list for testing\n",
    "models = [\n",
    "  LogisticRegression(solver='lbfgs', max_iter=1000, penalty='none'),\n",
    "  LogisticRegression(solver='lbfgs', max_iter=1000, penalty='l2'),\n",
    "\n",
    "  LogisticRegression(solver='liblinear', max_iter=1000 ,penalty='l1'),\n",
    "  LogisticRegression(solver='liblinear', max_iter=1000, penalty='l2'),\n",
    "\n",
    "  LogisticRegression(solver='sag', max_iter=1000, penalty='none'),\n",
    "  LogisticRegression(solver='sag', max_iter=1000, penalty='l2'),\n",
    "\n",
    "  LogisticRegression(solver='saga', max_iter=1000, penalty='none'),\n",
    "  LogisticRegression(solver='saga', max_iter=1000, penalty='l2'),\n",
    "\n",
    "  LogisticRegression(solver='newton-cg', max_iter=1000, penalty='none'),\n",
    "  LogisticRegression(solver='newton-cg', max_iter=1000, penalty='l2'),\n",
    "\n",
    "  LogisticRegression(solver='newton-cholesky', max_iter=1000, penalty='none'),\n",
    "  LogisticRegression(solver='newton-cholesky', max_iter=1000, penalty='l2'),\n",
    "  LogisticRegression(solver='saga', max_iter=1000, penalty='elasticnet', l1_ratio=0.5),\n",
    "  LogisticRegression(solver='saga', max_iter=1000, penalty='l1')\n",
    "  ]\n",
    "\n",
    "results_array = []\n",
    "#Test models\n",
    "for model in models:\n",
    "  pipeline = Pipeline([\n",
    "    ('model', model)\n",
    "  ])\n",
    "  pipeline.fit(X_train, y_train)\n",
    "\n",
    "  predictions = pipeline.predict(X_test)\n",
    "  accuracy = accuracy_score(predictions, y_test)\n",
    "  results_array.append(accuracy)\n",
    "  \n",
    "  "
   ]
  },
  {
   "cell_type": "code",
   "execution_count": 76,
   "metadata": {},
   "outputs": [
    {
     "data": {
      "image/png": "[encoded data removed]",
      "text/plain": [
       "<Figure size 640x480 with 1 Axes>"
      ]
     },
     "metadata": {},
     "output_type": "display_data"
    }
   ],
   "source": [
    "#plot results\n",
    "result_df = pd.DataFrame({\n",
    "  'Model': models,\n",
    "  'Accuracy': results_array\n",
    "  })\n",
    "result_df['Model'] = result_df['Model'].astype(str)\n",
    "plot = sns.barplot(data=result_df, x='Model', y='Accuracy')\n",
    "plot.set_ylim(min(results_array) - 0.01, max(results_array) + 0.01)\n",
    "\n",
    "plot.set_title('Solver Accuracy')\n",
    "plot.xaxis.set_tick_params(rotation=90)\n",
    "\n"
   ]
  },
  {
   "cell_type": "markdown",
   "metadata": {},
   "source": [
    "##### The penalties do not affect the outcome: newton-cholesky is the best solver for this case"
   ]
  },
  {
   "cell_type": "markdown",
   "metadata": {},
   "source": [
    "### 15. Hyperparameter tuning for SVM \n",
    "SVM is what is referenced in the case study provided, so we will attempt to improve our results with it."
   ]
  },
  {
   "cell_type": "code",
   "execution_count": 77,
   "metadata": {},
   "outputs": [],
   "source": [
    "#Create full dataframe for testing\n",
    "bank_df_full = df.copy()\n",
    "bank_df_full = pd.get_dummies(bank_df_full, columns=['job', 'marital', 'education', 'contact', 'month', 'day_of_week', 'poutcome'], drop_first=True)\n",
    "bank_df_full['y'] = bank_df_full['y'].map({'yes': 1, 'no': 0})\n",
    "bank_df_full['housing'] = bank_df_full['housing'].map({'yes': 1, 'no': 0})\n",
    "bank_df_full['default'] = bank_df_full['default'].map({'yes': 1, 'no': 0})\n",
    "bank_df_full['loan'] = bank_df_full['loan'].map({'yes': 1, 'no': 0})\n",
    "bank_df_full.dropna(inplace=True)\n",
    "bank_df_full.head()\n",
    "\n",
    "#train test split\n",
    "X = bank_df_full.drop('y', axis=1)\n",
    "y = bank_df_full['y']\n",
    "X_train, X_test, y_train, y_test = train_test_split(X, y, test_size=0.2, random_state=42)\n",
    "\n"
   ]
  },
  {
   "cell_type": "code",
   "execution_count": null,
   "metadata": {},
   "outputs": [],
   "source": [
    "param_grid = {'C': [0.1, 1, 10, 100, 1000],  \n",
    "              'gamma': [1, 0.1, 0.01, 0.001, 0.0001], \n",
    "              'kernel': ['rbf']}  \n",
    "  \n",
    "grid_svc = GridSearchCV(SVC(), param_grid, refit = True) \n",
    "\n",
    "grid_svc.fit(X_train, y_train) \n",
    "print(grid_svc.best_params_)\n",
    "\n"
   ]
  },
  {
   "cell_type": "code",
   "execution_count": 79,
   "metadata": {},
   "outputs": [
    {
     "name": "stdout",
     "output_type": "stream",
     "text": [
      "SVC(C=0.1, gamma=0.0001)\n",
      "{'C': 0.1, 'gamma': 0.0001, 'kernel': 'rbf'}\n",
      "Grid accuracy: 0.9054351240967641\n"
     ]
    }
   ],
   "source": [
    "best_params = {'C': 0.1, 'gamma': 0.0001, 'kernel': 'rbf'}\n",
    "print(grid_svc.best_estimator_)\n",
    "print(grid_svc.best_params_)\n",
    "grid_predictions = grid_svc.predict(X_test)\n",
    "accuracy = accuracy_score(grid_predictions, y_test)\n",
    "print(f'Grid accuracy: {accuracy}')\n"
   ]
  },
  {
   "cell_type": "markdown",
   "metadata": {},
   "source": [
    "#### We were able to beat the logistic regression results with this grid search.\n"
   ]
  },
  {
   "cell_type": "markdown",
   "metadata": {},
   "source": [
    "### 16. KNN Grid Search"
   ]
  },
  {
   "cell_type": "code",
   "execution_count": null,
   "metadata": {},
   "outputs": [],
   "source": [
    "knn = KNC()\n",
    "param_grid = {'n_neighbors': np.arange(1, 25), \n",
    "              'weights': ['uniform', 'distance'], \n",
    "              'metric': ['euclidean', 'manhattan'],\n",
    "              'algorithm': ['auto', 'ball_tree', 'kd_tree', 'brute']\n",
    "              }\n",
    "\n",
    "grid_knn = GridSearchCV(knn, param_grid, refit = True)\n",
    "grid_knn.fit(X_train, y_train)\n",
    "print(grid_knn.best_params_)\n"
   ]
  },
  {
   "cell_type": "code",
   "execution_count": 81,
   "metadata": {},
   "outputs": [
    {
     "name": "stdout",
     "output_type": "stream",
     "text": [
      "KNeighborsClassifier(algorithm='kd_tree', metric='manhattan', n_neighbors=23,\n",
      "                     weights='distance')\n",
      "{'algorithm': 'kd_tree', 'metric': 'manhattan', 'n_neighbors': 23, 'weights': 'distance'}\n",
      "Grid accuracy: 0.8982092365692743\n"
     ]
    }
   ],
   "source": [
    "print(grid_knn.best_estimator_)\n",
    "print(grid_knn.best_params_)\n",
    "grid_predictions = grid_knn.predict(X_test)\n",
    "accuracy = accuracy_score(grid_predictions, y_test)\n",
    "print(f'Grid accuracy: {accuracy}')\n",
    "\n"
   ]
  },
  {
   "cell_type": "markdown",
   "metadata": {},
   "source": [
    "##### KNN results improved, but not as well as SVM. \n",
    "\n",
    "#### 17. DTC Grid Search\n"
   ]
  },
  {
   "cell_type": "code",
   "execution_count": null,
   "metadata": {},
   "outputs": [],
   "source": [
    "dtc = DTC()\n",
    "\n",
    "param_grid = { \n",
    "    'criterion': ['gini', 'entropy'],\n",
    "    'splitter': ['best', 'random'],\n",
    "    'max_depth' : [i for i in range(1, 11)]\n",
    "}\n",
    "\n",
    "grid_dtc = GridSearchCV(dtc, param_grid, refit = True)\n",
    "grid_dtc.fit(X_train, y_train)\n"
   ]
  },
  {
   "cell_type": "code",
   "execution_count": 83,
   "metadata": {},
   "outputs": [
    {
     "name": "stdout",
     "output_type": "stream",
     "text": [
      "{'criterion': 'entropy', 'max_depth': 6, 'splitter': 'best'}\n",
      "DecisionTreeClassifier(criterion='entropy', max_depth=6)\n"
     ]
    },
    {
     "data": {
      "text/plain": [
       "0.9037071944706252"
      ]
     },
     "execution_count": 83,
     "metadata": {},
     "output_type": "execute_result"
    }
   ],
   "source": [
    "\n",
    "print(grid_dtc.best_params_)\n",
    "print(grid_dtc.best_estimator_)\n",
    "predictions = grid_dtc.predict(X_test)\n",
    "accuracy = accuracy_score(predictions, y_test)\n",
    "accuracy\n"
   ]
  },
  {
   "cell_type": "markdown",
   "metadata": {},
   "source": [
    "##### We were able to improve the decision tree classifier significantly, but the SVC model is still better.\n",
    "\n",
    "#### 18. Logistic Regression with GridSearchCV\n",
    "We performed much of this above, but running a GridSearchCV will allow us to more easily compare optimized results to those of the other models."
   ]
  },
  {
   "cell_type": "code",
   "execution_count": null,
   "metadata": {},
   "outputs": [],
   "source": [
    "log = LogisticRegression()\n",
    "\n",
    "param_grid = {\n",
    "    'penalty': ['l1', 'l2', 'elasticnet', 'none'],\n",
    "    'solver': ['newton-cg', 'lbfgs', 'liblinear', 'sag', 'saga'],\n",
    "    'max_iter': [100, 1000, 10000],\n",
    "    'C': [0.1, 1, 10, 100, 1000]\n",
    "}\n",
    "\n",
    "grid_log = GridSearchCV(log, param_grid, refit = True)\n",
    "grid_log.fit(X_train, y_train)\n",
    "\n"
   ]
  },
  {
   "cell_type": "code",
   "execution_count": 85,
   "metadata": {},
   "outputs": [
    {
     "name": "stdout",
     "output_type": "stream",
     "text": [
      "{'C': 1, 'max_iter': 1000, 'penalty': 'l2', 'solver': 'newton-cg'}\n",
      "LogisticRegression(C=1, max_iter=1000, solver='newton-cg')\n"
     ]
    },
    {
     "data": {
      "text/plain": [
       "0.9005655042412818"
      ]
     },
     "execution_count": 85,
     "metadata": {},
     "output_type": "execute_result"
    }
   ],
   "source": [
    "print(grid_log.best_params_)\n",
    "print(grid_log.best_estimator_)\n",
    "predictions = grid_log.predict(X_test)\n",
    "accuracy = accuracy_score(predictions, y_test)\n",
    "accuracy\n",
    "\n"
   ]
  },
  {
   "cell_type": "markdown",
   "metadata": {},
   "source": [
    "#### 19. Conclusions and Recommendations\n",
    "\n",
    "The testing of different models showed that the SVC classifier performs the best. The accuracy results are the highest, at 0.905. This improves upon our baseline performance, and would be reasonably useful to the banks that provided the testing data.\n",
    "\n",
    "For the banks, they could use customer information and the SVC model created to predict whether or not they would successfully sell their product to a customer. If it was already going to be successful, they could move on to a customer that would not purchase their product. They could then target this customer with promotions and special offers to try and convince them otherwise.\n",
    "\n",
    "The best source for this data is likely the banks themselves, with additional data being able to be purchased from online sources. Data sourced from online sources will likely need to be cleaned and the model will need to be tweaked for slightly different feature sets. "
   ]
  },
  {
   "cell_type": "markdown",
   "metadata": {},
   "source": []
  }
 ],
 "metadata": {
  "kernelspec": {
   "display_name": "Python 3",
   "language": "python",
   "name": "python3"
  },
  "language_info": {
   "codemirror_mode": {
    "name": "ipython",
    "version": 3
   },
   "file_extension": ".py",
   "mimetype": "text/x-python",
   "name": "python",
   "nbconvert_exporter": "python",
   "pygments_lexer": "ipython3",
   "version": "3.11.4"
  },
  "widgets": {
   "application/vnd.jupyter.widget-state+json": {
    "state": {},
    "version_major": 2,
    "version_minor": 0
   }
  }
 },
 "nbformat": 4,
 "nbformat_minor": 4
}
